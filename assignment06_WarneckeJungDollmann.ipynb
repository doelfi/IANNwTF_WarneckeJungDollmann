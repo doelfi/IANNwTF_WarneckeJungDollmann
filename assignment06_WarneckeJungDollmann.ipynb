{
 "cells": [
  {
   "cell_type": "code",
   "execution_count": 1,
   "id": "0d7ddacc",
   "metadata": {},
   "outputs": [
    {
     "name": "stderr",
     "output_type": "stream",
     "text": [
      "2022-12-08 10:01:52.904686: I tensorflow/core/platform/cpu_feature_guard.cc:193] This TensorFlow binary is optimized with oneAPI Deep Neural Network Library (oneDNN) to use the following CPU instructions in performance-critical operations:  AVX2 FMA\n",
      "To enable them in other operations, rebuild TensorFlow with the appropriate compiler flags.\n",
      "2022-12-08 10:01:53.191118: W tensorflow/compiler/xla/stream_executor/platform/default/dso_loader.cc:64] Could not load dynamic library 'libcudart.so.11.0'; dlerror: libcudart.so.11.0: cannot open shared object file: No such file or directory\n",
      "2022-12-08 10:01:53.191141: I tensorflow/compiler/xla/stream_executor/cuda/cudart_stub.cc:29] Ignore above cudart dlerror if you do not have a GPU set up on your machine.\n",
      "2022-12-08 10:01:54.066900: W tensorflow/compiler/xla/stream_executor/platform/default/dso_loader.cc:64] Could not load dynamic library 'libnvinfer.so.7'; dlerror: libnvinfer.so.7: cannot open shared object file: No such file or directory\n",
      "2022-12-08 10:01:54.066954: W tensorflow/compiler/xla/stream_executor/platform/default/dso_loader.cc:64] Could not load dynamic library 'libnvinfer_plugin.so.7'; dlerror: libnvinfer_plugin.so.7: cannot open shared object file: No such file or directory\n",
      "2022-12-08 10:01:54.066958: W tensorflow/compiler/tf2tensorrt/utils/py_utils.cc:38] TF-TRT Warning: Cannot dlopen some TensorRT libraries. If you would like to use Nvidia GPU with TensorRT, please make sure the missing libraries mentioned above are installed properly.\n",
      "/home/hendrik/anaconda3/envs/iannwtf-gpu/lib/python3.9/site-packages/tqdm/auto.py:22: TqdmWarning: IProgress not found. Please update jupyter and ipywidgets. See https://ipywidgets.readthedocs.io/en/stable/user_install.html\n",
      "  from .autonotebook import tqdm as notebook_tqdm\n",
      "2022-12-08 10:01:55.392146: I tensorflow/compiler/xla/stream_executor/cuda/cuda_gpu_executor.cc:981] successful NUMA node read from SysFS had negative value (-1), but there must be at least one NUMA node, so returning NUMA node zero\n",
      "2022-12-08 10:01:55.392290: W tensorflow/compiler/xla/stream_executor/platform/default/dso_loader.cc:64] Could not load dynamic library 'libcudart.so.11.0'; dlerror: libcudart.so.11.0: cannot open shared object file: No such file or directory\n",
      "2022-12-08 10:01:55.392326: W tensorflow/compiler/xla/stream_executor/platform/default/dso_loader.cc:64] Could not load dynamic library 'libcublas.so.11'; dlerror: libcublas.so.11: cannot open shared object file: No such file or directory\n",
      "2022-12-08 10:01:55.392352: W tensorflow/compiler/xla/stream_executor/platform/default/dso_loader.cc:64] Could not load dynamic library 'libcublasLt.so.11'; dlerror: libcublasLt.so.11: cannot open shared object file: No such file or directory\n",
      "2022-12-08 10:01:55.392376: W tensorflow/compiler/xla/stream_executor/platform/default/dso_loader.cc:64] Could not load dynamic library 'libcufft.so.10'; dlerror: libcufft.so.10: cannot open shared object file: No such file or directory\n",
      "2022-12-08 10:01:55.392400: W tensorflow/compiler/xla/stream_executor/platform/default/dso_loader.cc:64] Could not load dynamic library 'libcurand.so.10'; dlerror: libcurand.so.10: cannot open shared object file: No such file or directory\n",
      "2022-12-08 10:01:55.392422: W tensorflow/compiler/xla/stream_executor/platform/default/dso_loader.cc:64] Could not load dynamic library 'libcusolver.so.11'; dlerror: libcusolver.so.11: cannot open shared object file: No such file or directory\n",
      "2022-12-08 10:01:55.392443: W tensorflow/compiler/xla/stream_executor/platform/default/dso_loader.cc:64] Could not load dynamic library 'libcusparse.so.11'; dlerror: libcusparse.so.11: cannot open shared object file: No such file or directory\n",
      "2022-12-08 10:01:55.392465: W tensorflow/compiler/xla/stream_executor/platform/default/dso_loader.cc:64] Could not load dynamic library 'libcudnn.so.8'; dlerror: libcudnn.so.8: cannot open shared object file: No such file or directory\n",
      "2022-12-08 10:01:55.392470: W tensorflow/core/common_runtime/gpu/gpu_device.cc:1934] Cannot dlopen some GPU libraries. Please make sure the missing libraries mentioned above are installed properly if you would like to use GPU. Follow the guide at https://www.tensorflow.org/install/gpu for how to download and setup the required libraries for your platform.\n",
      "Skipping registering GPU devices...\n",
      "2022-12-08 10:01:55.394339: I tensorflow/core/platform/cpu_feature_guard.cc:193] This TensorFlow binary is optimized with oneAPI Deep Neural Network Library (oneDNN) to use the following CPU instructions in performance-critical operations:  AVX2 FMA\n",
      "To enable them in other operations, rebuild TensorFlow with the appropriate compiler flags.\n"
     ]
    }
   ],
   "source": [
    "import tensorflow_datasets as tfds\n",
    "import tensorflow as tf\n",
    "import math\n",
    "import datetime\n",
    "import pprint\n",
    "import tqdm\n",
    "import numpy as np\n",
    "import matplotlib.pyplot as plt\n",
    "import keras_cv\n",
    "#%load_ext tensorboard\n",
    "\n",
    "(train_ds, test_ds), ds_info = tfds.load('cifar10', split=['train', 'test'], as_supervised=True, with_info=True)"
   ]
  },
  {
   "cell_type": "code",
   "execution_count": 2,
   "id": "bffb2701",
   "metadata": {},
   "outputs": [],
   "source": [
    "def preprocessing(data):\n",
    "    # convert values into float\n",
    "    data = data.map(lambda img, target: (tf.cast(img, tf.float32), target))\n",
    "    # bringing image values to range [-1,1]\n",
    "    data = data.map(lambda img, target: ((img/128.)-1., target))\n",
    "    # create one-hot targets\n",
    "    data = data.map(lambda img, target: (img, tf.one_hot(target, depth=10)))\n",
    "    # cache progress in memory\n",
    "    data = data.cache()\n",
    "    # shuffle, batch, prefetch\n",
    "    data = data.shuffle(1000)\n",
    "    data = data.batch(32)\n",
    "    data = data.prefetch(20)\n",
    "    # return processed dataset\n",
    "    return data"
   ]
  },
  {
   "cell_type": "code",
   "execution_count": 13,
   "id": "376134de",
   "metadata": {},
   "outputs": [],
   "source": [
    "def preprocessing_augmented(data):\n",
    "    # convert values into float\n",
    "    data = data.map(lambda img, target: (tf.cast(img, tf.float32), target))\n",
    "    # bringing image values to range [-1,1]\n",
    "    data = data.map(lambda img, target: ((img/128.)-1., target))\n",
    "    # create one-hot targets\n",
    "    data = data.map(lambda img, target: (img, tf.one_hot(target, depth=10)))\n",
    "    # cache progress in memory\n",
    "    data = data.cache()\n",
    "    # shuffle, batch, prefetch\n",
    "    data = data.shuffle(1000)\n",
    "    data = data.batch(32)\n",
    "    data = data.prefetch(20)\n",
    "    # augment data\n",
    "    augmentation_model = tf.keras.Sequential([keras_cv.layers.RandAugment(value_range=[-1,1],magnitude=0.1)])\n",
    "    data = data.map(lambda x,y : (augmentation_model(x), y),num_parallel_calls=tf.data.AUTOTUNE)\n",
    "    # return processed dataset\n",
    "    return data"
   ]
  },
  {
   "cell_type": "code",
   "execution_count": 4,
   "id": "f9e1f8e1",
   "metadata": {},
   "outputs": [],
   "source": [
    "# apply preprocessing to the data\n",
    "#train_data = train_ds.apply(preprocessing)\n",
    "#test_data = test_ds.apply(preprocessing)"
   ]
  },
  {
   "cell_type": "code",
   "execution_count": 5,
   "id": "9eb9a8e9",
   "metadata": {},
   "outputs": [],
   "source": [
    "# a basic CNN, copied from the lecture\n",
    "class BasicCNN(tf.keras.Model):\n",
    "    def __init__(self, optimizer):\n",
    "        super(BasicCNN, self).__init__()\n",
    "        \n",
    "        # optimizer\n",
    "        self.optimizer = optimizer\n",
    "        \n",
    "        # loss function\n",
    "        self.loss_function = tf.keras.losses.CategoricalCrossentropy()\n",
    "        \n",
    "        # some metrics\n",
    "        self.metrics_list = [\n",
    "            tf.keras.metrics.Mean(name=\"loss\"),\n",
    "            tf.keras.metrics.CategoricalAccuracy(name=\"acc\")\n",
    "        ]\n",
    "        \n",
    "        # layer architecture\n",
    "        self.convlayer1 = tf.keras.layers.Conv2D(filters=24, kernel_size=3, padding='same', activation='relu')\n",
    "        self.convlayer2 = tf.keras.layers.Conv2D(filters=24, kernel_size=3, padding='same', activation='relu')\n",
    "        self.pooling1 = tf.keras.layers.MaxPooling2D(pool_size=2, strides=2)\n",
    "\n",
    "        self.convlayer3 = tf.keras.layers.Conv2D(filters=48, kernel_size=3, padding='same', activation='relu')\n",
    "        self.convlayer4 = tf.keras.layers.Conv2D(filters=48, kernel_size=3, padding='same', activation='relu')\n",
    "        self.pooling2 = tf.keras.layers.MaxPooling2D(pool_size=2, strides=2)\n",
    "        \n",
    "        self.convlayer5 = tf.keras.layers.Conv2D(filters=96, kernel_size=3, padding='same', activation='relu')\n",
    "        self.convlayer6 = tf.keras.layers.Conv2D(filters=96, kernel_size=3, padding='same', activation='relu')\n",
    "        self.global_pool = tf.keras.layers.GlobalAvgPool2D()\n",
    "\n",
    "        self.out = tf.keras.layers.Dense(10, activation='softmax')\n",
    "    \n",
    "    # get activation\n",
    "    def call(self, x, training=False):\n",
    "        x = self.convlayer1(x)\n",
    "        x = self.convlayer2(x)\n",
    "        x = self.pooling1(x)\n",
    "        x = self.convlayer3(x)\n",
    "        x = self.convlayer4(x)\n",
    "        x = self.pooling2(x)\n",
    "        x = self.convlayer5(x)\n",
    "        x = self.convlayer6(x)\n",
    "        x = self.global_pool(x)\n",
    "        x = self.out(x)\n",
    "        return x\n",
    "    \n",
    "    # get metrics\n",
    "    @property\n",
    "    def metrics(self):\n",
    "        return self.metrics_list\n",
    "    \n",
    "    # reset all metrics\n",
    "    def reset_metrics(self):\n",
    "        for metric in self.metrics:\n",
    "            metric.reset_states()\n",
    "            \n",
    "    # define train step\n",
    "    @tf.function\n",
    "    def train_step(self,data):\n",
    "        \n",
    "        x, targets = data\n",
    "        \n",
    "        # get gradients an apply them to the optimizer\n",
    "        with tf.GradientTape() as tape:\n",
    "            predictions = self(x, training=True)\n",
    "            loss = self.loss_function(targets,predictions)\n",
    "            \n",
    "        gradients = tape.gradient(loss, self.trainable_variables)\n",
    "        self.optimizer.apply_gradients(zip(gradients, self.trainable_variables))\n",
    "        \n",
    "        # update metrics\n",
    "        self.metrics[0].update_state(loss)\n",
    "        self.metrics[1].update_state(targets,predictions)\n",
    "        \n",
    "        # return a dictionary mapping metric names to current value\n",
    "        return {m.name: m.result() for m in self.metrics}\n",
    "    \n",
    "    # test step\n",
    "    @tf.function\n",
    "    def test_step(self, data):\n",
    "        \n",
    "        x, targets = data\n",
    "        predictions = self(x, training=False)\n",
    "        loss = self.loss_function(targets,predictions)\n",
    "        \n",
    "        # update metrics\n",
    "        self.metrics[0].update_state(loss)\n",
    "        self.metrics[1].update_state(targets,predictions)\n",
    "        \n",
    "        return {m.name: m.result() for m in self.metrics}"
   ]
  },
  {
   "cell_type": "code",
   "execution_count": 6,
   "id": "5181379b",
   "metadata": {},
   "outputs": [],
   "source": [
    "# the basic architecture but with different possibilities for regularization\n",
    "# 1. kernel_regularization via the L2 norm\n",
    "# 2. dropout units\n",
    "# 3. batch normalization\n",
    "class ConvModel(tf.keras.Model):\n",
    "    def __init__(self, optimizer, L2_reg=0, dropout_rate=0, batch_norm=False):\n",
    "        super().__init__()\n",
    "        \n",
    "        kernel_regularizer=tf.keras.regularizers.L2(L2_reg) if L2_reg else None\n",
    "        self.dropout_rate = dropout_rate\n",
    "        self.optimizer = optimizer\n",
    "        self.loss_function = tf.keras.losses.CategoricalCrossentropy()\n",
    "        \n",
    "        if self.dropout_rate:\n",
    "            self.dropout_layer = tf.keras.layers.Dropout(dropout_rate)\n",
    "            \n",
    "        self.layer_list = [\n",
    "            tf.keras.layers.Conv2D(filters=24, kernel_size=3, padding='same', activation='relu', kernel_regularizer=kernel_regularizer),\n",
    "            tf.keras.layers.Conv2D(filters=24, kernel_size=3, padding='same', activation='relu', kernel_regularizer=kernel_regularizer),\n",
    "            tf.keras.layers.MaxPooling2D(pool_size=2, strides=2),\n",
    "\n",
    "            tf.keras.layers.Conv2D(filters=48, kernel_size=3, padding='same', activation='relu', kernel_regularizer=kernel_regularizer),\n",
    "            tf.keras.layers.Conv2D(filters=48, kernel_size=3, padding='same', activation='relu', kernel_regularizer=kernel_regularizer),\n",
    "            tf.keras.layers.MaxPooling2D(pool_size=2, strides=2),\n",
    "        \n",
    "            tf.keras.layers.Conv2D(filters=96, kernel_size=3, padding='same', activation='relu', kernel_regularizer=kernel_regularizer),\n",
    "            tf.keras.layers.Conv2D(filters=96, kernel_size=3, padding='same', activation='relu', kernel_regularizer=kernel_regularizer),\n",
    "            tf.keras.layers.GlobalAvgPool2D(),\n",
    "\n",
    "            tf.keras.layers.Dense(10, activation='softmax', kernel_regularizer=kernel_regularizer)]\n",
    "        \n",
    "        if batch_norm:\n",
    "            \n",
    "                self.layer_list = [\n",
    "                    tf.keras.layers.Conv2D(filters=24, kernel_size=3, padding='same', activation='relu', kernel_regularizer=kernel_regularizer),\n",
    "                    tf.keras.layers.BatchNormalization(),\n",
    "                    tf.keras.layers.Conv2D(filters=24, kernel_size=3, padding='same', activation='relu', kernel_regularizer=kernel_regularizer),\n",
    "                    tf.keras.layers.BatchNormalization(),\n",
    "                    tf.keras.layers.MaxPooling2D(pool_size=2, strides=2),\n",
    "\n",
    "                    tf.keras.layers.Conv2D(filters=48, kernel_size=3, padding='same', activation='relu', kernel_regularizer=kernel_regularizer),\n",
    "                    tf.keras.layers.BatchNormalization(),\n",
    "                    tf.keras.layers.Conv2D(filters=48, kernel_size=3, padding='same', activation='relu', kernel_regularizer=kernel_regularizer),\n",
    "                    tf.keras.layers.BatchNormalization(),\n",
    "                    tf.keras.layers.MaxPooling2D(pool_size=2, strides=2),\n",
    "        \n",
    "                    tf.keras.layers.Conv2D(filters=96, kernel_size=3, padding='same', activation='relu', kernel_regularizer=kernel_regularizer),\n",
    "                    tf.keras.layers.BatchNormalization(),\n",
    "                    tf.keras.layers.Conv2D(filters=96, kernel_size=3, padding='same', activation='relu', kernel_regularizer=kernel_regularizer),\n",
    "                    tf.keras.layers.BatchNormalization(),\n",
    "                    tf.keras.layers.GlobalAvgPool2D(),\n",
    "\n",
    "                    tf.keras.layers.Dense(10, activation='softmax', kernel_regularizer=kernel_regularizer)]\n",
    "                \n",
    "                \n",
    "        # metrics to update\n",
    "        self.frobenius_metric = tf.keras.metrics.Mean(name=\"total_frobenius_norm\")\n",
    "        self.loss_metric = tf.keras.metrics.Mean(name=\"loss\")\n",
    "        self.accuracy_metric = tf.keras.metrics.CategoricalAccuracy(name=\"acc\")\n",
    "        \n",
    "    def call(self, x, training=False):\n",
    "        for layer in self.layer_list[:-1]:\n",
    "            x = layer(x)\n",
    "            if self.dropout_rate:\n",
    "                x = self.dropout_layer(x, training)\n",
    "        \n",
    "        return self.layer_list[-1](x)\n",
    "    \n",
    "    def reset_metrics(self):\n",
    "        for metric in self.metrics:\n",
    "            metric.reset_states()\n",
    "            \n",
    "    def compute_frobenius(self):\n",
    "        frobenius_norm = tf.zeros((1,))\n",
    "        for var in self.trainable_variables:\n",
    "            frobenius_norm += tf.norm(var, ord=\"euclidean\")\n",
    "        return frobenius_norm\n",
    "    \n",
    "    @tf.function\n",
    "    def train_step(self, data):\n",
    "        x, target = data\n",
    "        with tf.GradientTape() as tape:\n",
    "            prediction = self(x, training=True)\n",
    "            # we have to include the loss values that are written by the regularizer\n",
    "            # @TODO: I am not sure if it is written correctly this way\n",
    "            loss = self.loss_function(target, prediction) + sum(self.losses)\n",
    "            #loss = self.loss_function(target,prediction) + tf.losses.get_regularization_loss()\n",
    "        gradients = tape.gradient(loss, self.trainable_variables)\n",
    "        self.optimizer.apply_gradients(zip(gradients, self.trainable_variables))\n",
    "        \n",
    "        self.frobenius_metric.update_state(self.compute_frobenius())\n",
    "        self.loss_metric.update_state(loss)\n",
    "        self.accuracy_metric.update_state(target, prediction)\n",
    "        \n",
    "        return {metric.name: metric.result() for metric in self.metrics}\n",
    "    \n",
    "    @tf.function\n",
    "    def test_step(self, data):\n",
    "        x, target = data\n",
    "        prediction = self(x, training=False)\n",
    "        loss = self.loss_function(target, prediction)\n",
    "        \n",
    "        self.frobenius_metric.update_state(self.compute_frobenius())\n",
    "        self.loss_metric.update_state(loss)\n",
    "        self.accuracy_metric.update_state(target, prediction)\n",
    "        \n",
    "        return {metric.name: metric.result() for metric in self.metrics}"
   ]
  },
  {
   "cell_type": "code",
   "execution_count": 21,
   "id": "7179806f",
   "metadata": {},
   "outputs": [],
   "source": [
    "# the basic architecture but with different possibilities for regularization\n",
    "# 1. kernel_regularization via the L2 norm\n",
    "# 2. dropout units\n",
    "# 3. batch normalization\n",
    "class DeepConvModel(tf.keras.Model):\n",
    "    def __init__(self, optimizer, L2_reg=0, dropout_rate=0, batch_norm=False):\n",
    "        super().__init__()\n",
    "        \n",
    "        kernel_regularizer=tf.keras.regularizers.L2(L2_reg) if L2_reg else None\n",
    "        self.dropout_rate = dropout_rate\n",
    "        self.optimizer = optimizer\n",
    "        self.loss_function = tf.keras.losses.CategoricalCrossentropy()\n",
    "        \n",
    "        if self.dropout_rate:\n",
    "            self.dropout_layer = tf.keras.layers.Dropout(dropout_rate)\n",
    "            \n",
    "        self.layer_list = [\n",
    "            tf.keras.layers.Conv2D(filters=24, kernel_size=3, padding='same', activation='relu', kernel_regularizer=kernel_regularizer),\n",
    "            tf.keras.layers.Conv2D(filters=24, kernel_size=3, padding='same', activation='relu', kernel_regularizer=kernel_regularizer),\n",
    "            tf.keras.layers.MaxPooling2D(pool_size=2, strides=2),\n",
    "\n",
    "            tf.keras.layers.Conv2D(filters=48, kernel_size=3, padding='same', activation='relu', kernel_regularizer=kernel_regularizer),\n",
    "            tf.keras.layers.Conv2D(filters=48, kernel_size=3, padding='same', activation='relu', kernel_regularizer=kernel_regularizer),\n",
    "            tf.keras.layers.MaxPooling2D(pool_size=2, strides=2),\n",
    "        \n",
    "            tf.keras.layers.Conv2D(filters=96, kernel_size=3, padding='same', activation='relu', kernel_regularizer=kernel_regularizer),\n",
    "            tf.keras.layers.Conv2D(filters=96, kernel_size=3, padding='same', activation='relu', kernel_regularizer=kernel_regularizer),\n",
    "            tf.keras.layers.MaxPooling2D(pool_size=2, strides=2),\n",
    "            \n",
    "            tf.keras.layers.Conv2D(filters=192, kernel_size=3, padding='same', activation='relu', kernel_regularizer=kernel_regularizer),\n",
    "            tf.keras.layers.Conv2D(filters=192, kernel_size=3, padding='same', activation='relu', kernel_regularizer=kernel_regularizer),\n",
    "            tf.keras.layers.GlobalAvgPool2D(),\n",
    "\n",
    "            tf.keras.layers.Dense(10, activation='softmax', kernel_regularizer=kernel_regularizer)]\n",
    "        \n",
    "        if batch_norm:\n",
    "            \n",
    "                self.layer_list = [\n",
    "                    tf.keras.layers.Conv2D(filters=24, kernel_size=3, padding='same', activation='relu', kernel_regularizer=kernel_regularizer),\n",
    "                    tf.keras.layers.BatchNormalization(),\n",
    "                    tf.keras.layers.Conv2D(filters=24, kernel_size=3, padding='same', activation='relu', kernel_regularizer=kernel_regularizer),\n",
    "                    tf.keras.layers.BatchNormalization(),\n",
    "                    tf.keras.layers.MaxPooling2D(pool_size=2, strides=2),\n",
    "\n",
    "                    tf.keras.layers.Conv2D(filters=48, kernel_size=3, padding='same', activation='relu', kernel_regularizer=kernel_regularizer),\n",
    "                    tf.keras.layers.BatchNormalization(),\n",
    "                    tf.keras.layers.Conv2D(filters=48, kernel_size=3, padding='same', activation='relu', kernel_regularizer=kernel_regularizer),\n",
    "                    tf.keras.layers.BatchNormalization(),\n",
    "                    tf.keras.layers.MaxPooling2D(pool_size=2, strides=2),\n",
    "        \n",
    "                    tf.keras.layers.Conv2D(filters=96, kernel_size=3, padding='same', activation='relu', kernel_regularizer=kernel_regularizer),\n",
    "                    tf.keras.layers.BatchNormalization(),\n",
    "                    tf.keras.layers.Conv2D(filters=96, kernel_size=3, padding='same', activation='relu', kernel_regularizer=kernel_regularizer),\n",
    "                    tf.keras.layers.BatchNormalization(),\n",
    "                    tf.keras.layers.MaxPooling2D(pool_size=2, strides=2),\n",
    "            \n",
    "                    tf.keras.layers.Conv2D(filters=192, kernel_size=3, padding='same', activation='relu', kernel_regularizer=kernel_regularizer),\n",
    "                    tf.keras.layers.BatchNormalization(),\n",
    "                    tf.keras.layers.Conv2D(filters=192, kernel_size=3, padding='same', activation='relu', kernel_regularizer=kernel_regularizer),\n",
    "                    tf.keras.layers.BatchNormalization(),\n",
    "                    tf.keras.layers.GlobalAvgPool2D(),\n",
    "\n",
    "                    tf.keras.layers.Dense(10, activation='softmax', kernel_regularizer=kernel_regularizer)]\n",
    "                \n",
    "                \n",
    "        # metrics to update\n",
    "        self.frobenius_metric = tf.keras.metrics.Mean(name=\"total_frobenius_norm\")\n",
    "        self.loss_metric = tf.keras.metrics.Mean(name=\"loss\")\n",
    "        self.accuracy_metric = tf.keras.metrics.CategoricalAccuracy(name=\"acc\")\n",
    "        \n",
    "    def call(self, x, training=False):\n",
    "        for layer in self.layer_list[:-1]:\n",
    "            x = layer(x)\n",
    "            if self.dropout_rate:\n",
    "                x = self.dropout_layer(x, training)\n",
    "        \n",
    "        return self.layer_list[-1](x)\n",
    "    \n",
    "    def reset_metrics(self):\n",
    "        for metric in self.metrics:\n",
    "            metric.reset_states()\n",
    "            \n",
    "    def compute_frobenius(self):\n",
    "        frobenius_norm = tf.zeros((1,))\n",
    "        for var in self.trainable_variables:\n",
    "            frobenius_norm += tf.norm(var, ord=\"euclidean\")\n",
    "        return frobenius_norm\n",
    "    \n",
    "    @tf.function\n",
    "    def train_step(self, data):\n",
    "        x, target = data\n",
    "        with tf.GradientTape() as tape:\n",
    "            prediction = self(x, training=True)\n",
    "            # we have to include the loss values that are written by the regularizer\n",
    "            # @TODO: I am not sure if it is written correctly this way\n",
    "            loss = self.loss_function(target, prediction) + sum(self.losses)\n",
    "            #loss = self.loss_function(target,prediction) + tf.losses.get_regularization_loss()\n",
    "        gradients = tape.gradient(loss, self.trainable_variables)\n",
    "        self.optimizer.apply_gradients(zip(gradients, self.trainable_variables))\n",
    "        \n",
    "        self.frobenius_metric.update_state(self.compute_frobenius())\n",
    "        self.loss_metric.update_state(loss)\n",
    "        self.accuracy_metric.update_state(target, prediction)\n",
    "        \n",
    "        return {metric.name: metric.result() for metric in self.metrics}\n",
    "    \n",
    "    @tf.function\n",
    "    def test_step(self, data):\n",
    "        x, target = data\n",
    "        prediction = self(x, training=False)\n",
    "        loss = self.loss_function(target, prediction)\n",
    "        \n",
    "        self.frobenius_metric.update_state(self.compute_frobenius())\n",
    "        self.loss_metric.update_state(loss)\n",
    "        self.accuracy_metric.update_state(target, prediction)\n",
    "        \n",
    "        return {metric.name: metric.result() for metric in self.metrics}"
   ]
  },
  {
   "cell_type": "code",
   "execution_count": 7,
   "id": "be34f365",
   "metadata": {},
   "outputs": [],
   "source": [
    "def training_loop(model, train_ds, val_ds, epochs, train_summary_writer, val_summary_writer):\n",
    "    for epoch in range(epochs):\n",
    "        print(f\"Epoch {epoch}:\")\n",
    "        \n",
    "        # Training:\n",
    "        \n",
    "        for data in tqdm.tqdm(train_ds, position=0, leave=True):\n",
    "            metrics = model.train_step(data)\n",
    "            \n",
    "            # logging the validation metrics to the log file which is used by tensorboard\n",
    "            with train_summary_writer.as_default():\n",
    "                for metric in model.metrics:\n",
    "                    tf.summary.scalar(f\"{metric.name}\", metric.result(), step=epoch)\n",
    "\n",
    "        # print the metrics\n",
    "        print([f\"{key}: {value.numpy()}\" for (key, value) in metrics.items()])\n",
    "\n",
    "        # reset all metrics (requires a reset_metrics method in the model)\n",
    "        model.reset_metrics()    \n",
    "        \n",
    "        # Validation:\n",
    "        for data in val_ds:\n",
    "            metrics = model.test_step(data)\n",
    "        \n",
    "            # logging the validation metrics to the log file which is used by tensorboard\n",
    "            with val_summary_writer.as_default():\n",
    "                for metric in model.metrics:\n",
    "                    tf.summary.scalar(f\"{metric.name}\", metric.result(), step=epoch)\n",
    "                    \n",
    "        print([f\"val_{key}: {value.numpy()}\" for (key, value) in metrics.items()])\n",
    "\n",
    "        # reset all metrics\n",
    "        model.reset_metrics()\n",
    "        print(\"\\n\")"
   ]
  },
  {
   "cell_type": "code",
   "execution_count": 8,
   "id": "7f568273",
   "metadata": {},
   "outputs": [],
   "source": [
    "#used for visualize the data with plt instead of tensorboard\n",
    "def training_loop_visual(model, train_ds, val_ds, epochs):\n",
    "    \n",
    "    train_losses = []\n",
    "    train_accuracies = []\n",
    "    test_losses = []\n",
    "    test_accuracies = []\n",
    "    \n",
    "    for epoch in range(epochs):\n",
    "        print(f\"Epoch {epoch}:\")\n",
    "        \n",
    "        # Training:\n",
    "        \n",
    "        for data in tqdm.tqdm(train_ds, position=0, leave=True):\n",
    "            metrics = model.train_step(data)\n",
    "            \n",
    "        for (key, value) in metrics.items():\n",
    "            if key == 'acc':\n",
    "                train_accuracies.append(value.numpy())\n",
    "            if key == 'loss':\n",
    "                train_losses.append(value.numpy())\n",
    "\n",
    "        # print the metrics\n",
    "        print([f\"{key}: {value.numpy()}\" for (key, value) in metrics.items()])\n",
    "\n",
    "        # reset all metrics (requires a reset_metrics method in the model)\n",
    "        model.reset_metrics()    \n",
    "        \n",
    "        # Validation:\n",
    "        for data in val_ds:\n",
    "            metrics = model.test_step(data)\n",
    "        \n",
    "        for (key, value) in metrics.items():\n",
    "            if key == 'acc':\n",
    "                test_accuracies.append(value.numpy())\n",
    "            if key == 'loss':\n",
    "                test_losses.append(value.numpy())\n",
    "                    \n",
    "        print([f\"val_{key}: {value.numpy()}\" for (key, value) in metrics.items()])\n",
    "\n",
    "        # reset all metrics\n",
    "        model.reset_metrics()\n",
    "        print(\"\\n\")\n",
    "        \n",
    "    return train_losses, train_accuracies, test_losses, test_accuracies"
   ]
  },
  {
   "cell_type": "code",
   "execution_count": 9,
   "id": "0f099ab3",
   "metadata": {},
   "outputs": [],
   "source": [
    "def automated_training(optimizer, epochs,label):\n",
    "    \n",
    "    # create the model\n",
    "    #model = BasicCNN(optimizer)\n",
    "    model = ConvModel(optimizer, L2_reg=0.2, batch_norm=True)\n",
    "    \n",
    "    # Define where to save the log\n",
    "    config_name= \"config_name\"\n",
    "    current_time = datetime.datetime.now().strftime(\"%Y%m%d-%H%M%S\")\n",
    "\n",
    "    train_log_path = f\"logs/{config_name}/{current_time}/train/{label}\"\n",
    "    val_log_path = f\"logs/{config_name}/{current_time}/val/{label}\"\n",
    "\n",
    "    # log writer for training metrics\n",
    "    train_summary_writer = tf.summary.create_file_writer(train_log_path)\n",
    "\n",
    "    # log writer for validation metrics\n",
    "    val_summary_writer = tf.summary.create_file_writer(val_log_path)\n",
    "    \n",
    "    # run the training loop \n",
    "    training_loop(model=model, \n",
    "            train_ds=train_data, \n",
    "            val_ds=test_data, \n",
    "            epochs=epochs, \n",
    "            train_summary_writer=train_summary_writer, \n",
    "            val_summary_writer=val_summary_writer)"
   ]
  },
  {
   "cell_type": "code",
   "execution_count": 22,
   "id": "eb9a837f",
   "metadata": {},
   "outputs": [],
   "source": [
    "def automated_training_visual(optimizer,epochs,label, L2_reg=0, dropout_rate=0, batch_norm=False, augmentation=False):\n",
    "    \n",
    "    # generate data\n",
    "    if augmentation:\n",
    "        train_data = train_ds.apply(preprocessing_augmented)\n",
    "    else:\n",
    "        train_data = train_ds.apply(preprocessing)\n",
    "    test_data = test_ds.apply(preprocessing)\n",
    "    \n",
    "    # create the model\n",
    "    #model = ConvModel(optimizer, L2_reg = L2_reg, dropout_rate = dropout_rate, batch_norm = batch_norm)\n",
    "    model = DeepConvModel(optimizer, L2_reg = L2_reg, dropout_rate = dropout_rate, batch_norm = batch_norm)\n",
    "    \n",
    "    # run the training loop \n",
    "    train_loss, train_acc, test_loss, test_acc = training_loop_visual(model=model, \n",
    "            train_ds=train_data, \n",
    "            val_ds=test_data, \n",
    "            epochs=epochs)\n",
    "    \n",
    "    visualization(train_loss, train_acc, test_loss, test_acc, label)"
   ]
  },
  {
   "cell_type": "code",
   "execution_count": 11,
   "id": "94e175ed",
   "metadata": {},
   "outputs": [],
   "source": [
    "def visualization(train_losses, train_accuracies, test_losses, test_accuracies, label):\n",
    "    #print(test_accuracies)\n",
    "    plt.figure()\n",
    "    line1, = plt.plot(train_losses , \"b-\")\n",
    "    line2, = plt.plot(test_losses , \"r-\")\n",
    "    line3, = plt.plot(train_accuracies , \"b:\")\n",
    "    line4, = plt.plot(test_accuracies , \"r:\")\n",
    "    \n",
    "    plt.title(label)\n",
    "    plt.xlabel(\"Training steps\")\n",
    "    plt.ylabel(\"Loss/Accuracy\")\n",
    "    plt.legend((line1 , line2 , line3 , line4), \n",
    "             (\"training loss\", \"test loss\", \"train accuracy\", \"test accuracy\"))\n",
    "    plt.show()"
   ]
  },
  {
   "cell_type": "code",
   "execution_count": 24,
   "id": "0fc2c437",
   "metadata": {
    "scrolled": false
   },
   "outputs": [
    {
     "name": "stdout",
     "output_type": "stream",
     "text": [
      "Epoch 0:\n"
     ]
    },
    {
     "name": "stderr",
     "output_type": "stream",
     "text": [
      "100%|███████████████████████████████████████| 1563/1563 [00:41<00:00, 37.36it/s]\n"
     ]
    },
    {
     "name": "stdout",
     "output_type": "stream",
     "text": [
      "['total_frobenius_norm: 135.48204040527344', 'loss: 1.8525265455245972', 'acc: 0.5171200037002563']\n",
      "['val_total_frobenius_norm: 133.5036163330078', 'val_loss: 1.0404062271118164', 'val_acc: 0.6455000042915344']\n",
      "\n",
      "\n",
      "Epoch 1:\n"
     ]
    },
    {
     "name": "stderr",
     "output_type": "stream",
     "text": [
      "100%|███████████████████████████████████████| 1563/1563 [00:38<00:00, 40.67it/s]\n"
     ]
    },
    {
     "name": "stdout",
     "output_type": "stream",
     "text": [
      "['total_frobenius_norm: 135.76113891601562', 'loss: 1.4155629873275757', 'acc: 0.6414999961853027']\n",
      "['val_total_frobenius_norm: 138.32302856445312', 'val_loss: 0.8360080122947693', 'val_acc: 0.713699996471405']\n",
      "\n",
      "\n",
      "Epoch 2:\n"
     ]
    },
    {
     "name": "stderr",
     "output_type": "stream",
     "text": [
      "100%|███████████████████████████████████████| 1563/1563 [00:38<00:00, 40.32it/s]\n"
     ]
    },
    {
     "name": "stdout",
     "output_type": "stream",
     "text": [
      "['total_frobenius_norm: 140.67266845703125', 'loss: 1.3346784114837646', 'acc: 0.6792600154876709']\n",
      "['val_total_frobenius_norm: 142.41932678222656', 'val_loss: 0.7638340592384338', 'val_acc: 0.7301999926567078']\n",
      "\n",
      "\n",
      "Epoch 3:\n"
     ]
    },
    {
     "name": "stderr",
     "output_type": "stream",
     "text": [
      "100%|███████████████████████████████████████| 1563/1563 [00:38<00:00, 40.34it/s]\n"
     ]
    },
    {
     "name": "stdout",
     "output_type": "stream",
     "text": [
      "['total_frobenius_norm: 143.878173828125', 'loss: 1.299346685409546', 'acc: 0.6957799792289734']\n",
      "['val_total_frobenius_norm: 144.91546630859375', 'val_loss: 0.7314386963844299', 'val_acc: 0.7487999796867371']\n",
      "\n",
      "\n",
      "Epoch 4:\n"
     ]
    },
    {
     "name": "stderr",
     "output_type": "stream",
     "text": [
      "100%|███████████████████████████████████████| 1563/1563 [00:39<00:00, 40.05it/s]\n"
     ]
    },
    {
     "name": "stdout",
     "output_type": "stream",
     "text": [
      "['total_frobenius_norm: 146.03428649902344', 'loss: 1.2589976787567139', 'acc: 0.7091799974441528']\n",
      "['val_total_frobenius_norm: 146.8356170654297', 'val_loss: 0.6744075417518616', 'val_acc: 0.7638999819755554']\n",
      "\n",
      "\n",
      "Epoch 5:\n"
     ]
    },
    {
     "name": "stderr",
     "output_type": "stream",
     "text": [
      "100%|███████████████████████████████████████| 1563/1563 [00:39<00:00, 39.85it/s]\n"
     ]
    },
    {
     "name": "stdout",
     "output_type": "stream",
     "text": [
      "['total_frobenius_norm: 147.39048767089844', 'loss: 1.234621524810791', 'acc: 0.718280017375946']\n",
      "['val_total_frobenius_norm: 148.11044311523438', 'val_loss: 0.6845613121986389', 'val_acc: 0.7685999870300293']\n",
      "\n",
      "\n",
      "Epoch 6:\n"
     ]
    },
    {
     "name": "stderr",
     "output_type": "stream",
     "text": [
      "100%|███████████████████████████████████████| 1563/1563 [00:38<00:00, 40.29it/s]\n"
     ]
    },
    {
     "name": "stdout",
     "output_type": "stream",
     "text": [
      "['total_frobenius_norm: 148.85760498046875', 'loss: 1.2021472454071045', 'acc: 0.7283200025558472']\n",
      "['val_total_frobenius_norm: 149.24330139160156', 'val_loss: 0.6966299414634705', 'val_acc: 0.7634999752044678']\n",
      "\n",
      "\n",
      "Epoch 7:\n"
     ]
    },
    {
     "name": "stderr",
     "output_type": "stream",
     "text": [
      "100%|███████████████████████████████████████| 1563/1563 [00:38<00:00, 40.31it/s]\n"
     ]
    },
    {
     "name": "stdout",
     "output_type": "stream",
     "text": [
      "['total_frobenius_norm: 149.668212890625', 'loss: 1.1829215288162231', 'acc: 0.7325199842453003']\n",
      "['val_total_frobenius_norm: 150.14842224121094', 'val_loss: 0.7507221102714539', 'val_acc: 0.7487000226974487']\n",
      "\n",
      "\n",
      "Epoch 8:\n"
     ]
    },
    {
     "name": "stderr",
     "output_type": "stream",
     "text": [
      "100%|███████████████████████████████████████| 1563/1563 [00:38<00:00, 40.83it/s]\n"
     ]
    },
    {
     "name": "stdout",
     "output_type": "stream",
     "text": [
      "['total_frobenius_norm: 150.666015625', 'loss: 1.1587133407592773', 'acc: 0.7405200004577637']\n",
      "['val_total_frobenius_norm: 151.0244598388672', 'val_loss: 0.6448692679405212', 'val_acc: 0.7838000059127808']\n",
      "\n",
      "\n",
      "Epoch 9:\n"
     ]
    },
    {
     "name": "stderr",
     "output_type": "stream",
     "text": [
      "100%|███████████████████████████████████████| 1563/1563 [00:38<00:00, 40.67it/s]\n"
     ]
    },
    {
     "name": "stdout",
     "output_type": "stream",
     "text": [
      "['total_frobenius_norm: 151.49522399902344', 'loss: 1.145355463027954', 'acc: 0.7426000237464905']\n",
      "['val_total_frobenius_norm: 151.83204650878906', 'val_loss: 0.6574735641479492', 'val_acc: 0.7736999988555908']\n",
      "\n",
      "\n",
      "Epoch 10:\n"
     ]
    },
    {
     "name": "stderr",
     "output_type": "stream",
     "text": [
      "100%|███████████████████████████████████████| 1563/1563 [00:39<00:00, 39.44it/s]\n"
     ]
    },
    {
     "name": "stdout",
     "output_type": "stream",
     "text": [
      "['total_frobenius_norm: 151.9821319580078', 'loss: 1.1329172849655151', 'acc: 0.745419979095459']\n",
      "['val_total_frobenius_norm: 152.17054748535156', 'val_loss: 0.6449496150016785', 'val_acc: 0.781000018119812']\n",
      "\n",
      "\n",
      "Epoch 11:\n"
     ]
    },
    {
     "name": "stderr",
     "output_type": "stream",
     "text": [
      "100%|███████████████████████████████████████| 1563/1563 [00:39<00:00, 39.48it/s]\n"
     ]
    },
    {
     "name": "stdout",
     "output_type": "stream",
     "text": [
      "['total_frobenius_norm: 152.78433227539062', 'loss: 1.1133674383163452', 'acc: 0.7519999742507935']\n",
      "['val_total_frobenius_norm: 153.10543823242188', 'val_loss: 0.6121092438697815', 'val_acc: 0.786300003528595']\n",
      "\n",
      "\n",
      "Epoch 12:\n"
     ]
    },
    {
     "name": "stderr",
     "output_type": "stream",
     "text": [
      "100%|███████████████████████████████████████| 1563/1563 [00:39<00:00, 39.55it/s]\n"
     ]
    },
    {
     "name": "stdout",
     "output_type": "stream",
     "text": [
      "['total_frobenius_norm: 153.4982452392578', 'loss: 1.1087578535079956', 'acc: 0.751259982585907']\n",
      "['val_total_frobenius_norm: 153.67552185058594', 'val_loss: 0.6262732744216919', 'val_acc: 0.7889000177383423']\n",
      "\n",
      "\n",
      "Epoch 13:\n"
     ]
    },
    {
     "name": "stderr",
     "output_type": "stream",
     "text": [
      "100%|███████████████████████████████████████| 1563/1563 [00:38<00:00, 40.35it/s]\n"
     ]
    },
    {
     "name": "stdout",
     "output_type": "stream",
     "text": [
      "['total_frobenius_norm: 154.00738525390625', 'loss: 1.0956954956054688', 'acc: 0.7542799711227417']\n",
      "['val_total_frobenius_norm: 154.48934936523438', 'val_loss: 0.5817185640335083', 'val_acc: 0.801800012588501']\n",
      "\n",
      "\n",
      "Epoch 14:\n"
     ]
    },
    {
     "name": "stderr",
     "output_type": "stream",
     "text": [
      "100%|███████████████████████████████████████| 1563/1563 [00:38<00:00, 40.61it/s]\n"
     ]
    },
    {
     "name": "stdout",
     "output_type": "stream",
     "text": [
      "['total_frobenius_norm: 154.7223358154297', 'loss: 1.0864906311035156', 'acc: 0.7582799792289734']\n",
      "['val_total_frobenius_norm: 155.09890747070312', 'val_loss: 0.6005433797836304', 'val_acc: 0.7950000166893005']\n",
      "\n",
      "\n"
     ]
    },
    {
     "data": {
      "image/png": "[encoded data removed]",
      "text/plain": [
       "<Figure size 640x480 with 1 Axes>"
      ]
     },
     "metadata": {},
     "output_type": "display_data"
    }
   ],
   "source": [
    "automated_training_visual(tf.keras.optimizers.Adam(),15,\"Deeper network with L2 regularizer, batch norm and augmentation\",\n",
    "                          L2_reg = 0.001, dropout_rate = 0, batch_norm = True, augmentation=True)"
   ]
  },
  {
   "cell_type": "code",
   "execution_count": null,
   "id": "23ffd95a",
   "metadata": {
    "scrolled": true
   },
   "outputs": [],
   "source": [
    "%tensorboard --logdir logs/"
   ]
  }
 ],
 "metadata": {
  "kernelspec": {
   "display_name": "Python [conda env:iannwtf-gpu]",
   "language": "python",
   "name": "conda-env-iannwtf-gpu-py"
  },
  "language_info": {
   "codemirror_mode": {
    "name": "ipython",
    "version": 3
   },
   "file_extension": ".py",
   "mimetype": "text/x-python",
   "name": "python",
   "nbconvert_exporter": "python",
   "pygments_lexer": "ipython3",
   "version": "3.9.15"
  }
 },
 "nbformat": 4,
 "nbformat_minor": 5
}
