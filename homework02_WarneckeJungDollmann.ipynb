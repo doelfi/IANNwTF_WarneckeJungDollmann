{
 "cells": [
  {
   "cell_type": "code",
   "execution_count": 12,
   "metadata": {},
   "outputs": [],
   "source": [
    "import numpy as np\n",
    "import matplotlib.pyplot as plt"
   ]
  },
  {
   "cell_type": "code",
   "execution_count": 13,
   "metadata": {},
   "outputs": [],
   "source": [
    "# 1. Randomly generate 100 numbers between 0 and 1 and save them to an array ’x’. These are your input values.\n",
    "x = np.random.rand(100,1)"
   ]
  },
  {
   "cell_type": "code",
   "execution_count": 14,
   "metadata": {},
   "outputs": [],
   "source": [
    "# 2. Create an array ’t’. For each entry x[i] in x, calculate x[i]**3-x[i]**2 \n",
    "#    and save the results to t[i]. These are your targets.\n",
    "t = pow(x,3) - pow(x,2) + 1"
   ]
  },
  {
   "cell_type": "code",
   "execution_count": 15,
   "metadata": {},
   "outputs": [],
   "source": [
    "# class for one layer in a MLP\n",
    "class Layer:\n",
    "    def __init__(self, n_units, input_units):\n",
    "        # The constructor should accept an integer argument n_units, indicating the number of units in the layer.\n",
    "        self.n_units = n_units\n",
    "        \n",
    "        # The constructor should accept an integer argument ’input_units’,indicating the number of units in the preceding layer.\n",
    "        self.input_units = input_units\n",
    "        \n",
    "        # The constructor should instantiate a bias vector and a weight matrixof shape (n inputs, n units).\n",
    "        # Use random values for the weights andzeros for the biases. \n",
    "        self.bias_vector = np.zeros(n_units)\n",
    "        self.weights = np.random.rand(input_units,n_units)\n",
    "        \n",
    "        # instantiate empty attributes for layer-input, layer preactivation and layer activation\n",
    "        self.layer_input = 0\n",
    "        self.layer_preactivation = 0\n",
    "        self.layer_activation = 0\n",
    "        \n",
    "    # returns each unit’s activation(i.e. output) using ReLu as the activation function.\n",
    "    def forward_step(self, layer_input):\n",
    "\n",
    "        self.layer_input = layer_input\n",
    "            \n",
    "        self.layer_preactivation = np.matmul(self.layer_input, self.weights) + self.bias_vector\n",
    "        self.layer_activation = np.maximum(0, self.layer_preactivation)\n",
    "        return self.layer_activation\n",
    "    \n",
    "    def backward_step(self,next_layer_derivative):\n",
    "        # heaviside is a step function -> derivative of ReLU\n",
    "        preactivation_derivative = np.heaviside(self.layer_preactivation,0)\n",
    "        \n",
    "        # matmul is a matrix multiplication (not element wise)\n",
    "        weight_gradient = np.matmul(np.transpose(self.layer_input), np.multiply(preactivation_derivative, next_layer_derivative))\n",
    "        \n",
    "        # gradients of the bias vector\n",
    "        bias_gradient = np.multiply(preactivation_derivative, next_layer_derivative)\n",
    "        \n",
    "        # gradients of the inputs\n",
    "        input_gradient = np.matmul(np.multiply(preactivation_derivative, next_layer_derivative),np.transpose(self.weights))\n",
    "        \n",
    "        # update parameters\n",
    "        # rate 0.01 worked so much better then 0.04 -> it actually goes towards zero now\n",
    "        rate = 0.01\n",
    "        self.bias_vector = self.bias_vector - rate * bias_gradient\n",
    "        self.weights = self.weights - rate * weight_gradient\n",
    "        \n",
    "        # return so the next layer can use it for it's calculations\n",
    "        return input_gradient"
   ]
  },
  {
   "cell_type": "code",
   "execution_count": 16,
   "metadata": {},
   "outputs": [],
   "source": [
    "# MLP class which combines instances of Layer class into a MLP\n",
    "# takes a list of Layers: every entry is a layer wit the number of units as the value\n",
    "class MLP:\n",
    "    def __init__(self,structure):\n",
    "        self.layers = list()\n",
    "        for i in range(len(structure)):\n",
    "            # first layer takes one input unit\n",
    "            if (i == 0):\n",
    "                self.layers.append(Layer(structure[i],1))\n",
    "            # for the rest, the number of input units depends on the previous layer\n",
    "            else:\n",
    "                self.layers.append(Layer(structure[i],structure[i-1]))\n",
    "    \n",
    "    # pass input through network\n",
    "    def forward_step(self, x):\n",
    "        activation = x\n",
    "        for layer in self.layers:\n",
    "            activation = layer.forward_step(activation)\n",
    "        return activation\n",
    "    \n",
    "    # just pass through the backwards_step of all layers starting at the last\n",
    "    def backpropagation(self, loss):\n",
    "        next_layer_derivative = loss\n",
    "        for layer in reversed(self.layers):\n",
    "            next_layer_derivative = layer.backward_step(next_layer_derivative)"
   ]
  },
  {
   "cell_type": "code",
   "execution_count": 17,
   "metadata": {},
   "outputs": [],
   "source": [
    "# mean squared error function\n",
    "def MSE(y,t):\n",
    "    return 1/2 * (y - t) ** 2\n",
    "\n",
    "# derivative of MSE to feed into the backpropagation\n",
    "def MSE_derivative(y,t):\n",
    "    return y-t"
   ]
  },
  {
   "cell_type": "code",
   "execution_count": 18,
   "metadata": {},
   "outputs": [],
   "source": [
    "structure = [10,1]\n",
    "\n",
    "# create MLP\n",
    "mlp = MLP(structure)\n",
    "\n",
    "# train MLP\n",
    "epochs = 1000\n",
    "loss = list()\n",
    "\n",
    "# training\n",
    "\n",
    "for i in range(epochs):\n",
    "    # getting the output for every input\n",
    "    output = mlp.forward_step(x)\n",
    "    current_loss = MSE(output,t)\n",
    "    loss.append(current_loss)\n",
    "    # backpropagation\n",
    "    mlp.backpropagation(MSE_derivative(output,t))"
   ]
  },
  {
   "cell_type": "code",
   "execution_count": 19,
   "metadata": {},
   "outputs": [
    {
     "data": {
      "text/plain": [
       "Text(0, 0.5, 'average loss')"
      ]
     },
     "execution_count": 19,
     "metadata": {},
     "output_type": "execute_result"
    },
    {
     "data": {
      "image/png": "[encoded data removed]",
      "text/plain": [
       "<Figure size 432x288 with 1 Axes>"
      ]
     },
     "metadata": {
      "needs_background": "light"
     },
     "output_type": "display_data"
    }
   ],
   "source": [
    "# visualization\n",
    "# reduce Dimensionality to a single value per epoch\n",
    "\n",
    "average_loss= np.mean(loss,1)\n",
    "\n",
    "# plot the loss over all epochs\n",
    "plt.plot(average_loss)\n",
    "plt.xlabel(\"Epoch\")\n",
    "plt.ylabel(\"average loss\")"
   ]
  },
  {
   "cell_type": "code",
   "execution_count": null,
   "metadata": {},
   "outputs": [],
   "source": []
  }
 ],
 "metadata": {
  "kernelspec": {
   "display_name": "Python 3",
   "language": "python",
   "name": "python3"
  },
  "language_info": {
   "codemirror_mode": {
    "name": "ipython",
    "version": 3
   },
   "file_extension": ".py",
   "mimetype": "text/x-python",
   "name": "python",
   "nbconvert_exporter": "python",
   "pygments_lexer": "ipython3",
   "version": "3.8.3"
  }
 },
 "nbformat": 4,
 "nbformat_minor": 5
}
